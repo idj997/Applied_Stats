{
 "cells": [
  {
   "cell_type": "markdown",
   "id": "dc0e2e11-66b4-4802-99c1-d73b476fc220",
   "metadata": {},
   "source": [
    "Practise Task 1\n",
    "\n",
    "Implement the counting measure in Python. Test that it satisfies additivity on the disjoint sets {\"a\", \"b\", \"c\"}, {\"d\", \"e\", \"f\"}.\n",
    "Bonus mark if your implementation of the counting measure checks that the input type is correct and raises an error otherwise"
   ]
  },
  {
   "cell_type": "code",
   "execution_count": 55,
   "id": "da417661-ab5d-4223-971c-5a10db95d624",
   "metadata": {},
   "outputs": [],
   "source": [
    "set1={\"a\", \"b\", \"c\"}\n",
    "set2={\"d\", \"e\", \"f\"}"
   ]
  },
  {
   "cell_type": "code",
   "execution_count": 56,
   "id": "310b92b6-47da-412a-9aaf-90f3e971fafe",
   "metadata": {},
   "outputs": [],
   "source": [
    "def set_addition(set1,set2): \n",
    "    if type(set1)!=set or type(set2)!=set :\n",
    "        print('invalid datatype')\n",
    "    else:\n",
    "        return(len(set1.union(set2)))"
   ]
  },
  {
   "cell_type": "code",
   "execution_count": 57,
   "id": "c5ccf2d4-a1bf-4940-8700-fa5f6bc44d7a",
   "metadata": {},
   "outputs": [],
   "source": [
    "def test_additivity(count,set1,set2):\n",
    "    if count ==(len(set1)+len(set2)) :\n",
    "        print('The sets satisfies the additivity property')"
   ]
  },
  {
   "cell_type": "code",
   "execution_count": 58,
   "id": "0164cdab-e340-4ba0-9dc9-6af9663c7963",
   "metadata": {},
   "outputs": [
    {
     "name": "stdout",
     "output_type": "stream",
     "text": [
      "The sets satisfies the additivity property\n"
     ]
    }
   ],
   "source": [
    "test_additivity(set_addition(set1,set2),set1,set2)"
   ]
  },
  {
   "cell_type": "markdown",
   "id": "448587f1-1a28-4dee-b5a4-3edb332a0d20",
   "metadata": {},
   "source": [
    "Practice Task 2\n",
    "Create a Python class which implements intervals. Use this new data type to write a function which implements the length measure on intervals. Test it on the interval [1, 3.5]."
   ]
  },
  {
   "cell_type": "code",
   "execution_count": 59,
   "id": "0f8cdef3-d4a7-485b-b3e3-00d0607cc264",
   "metadata": {},
   "outputs": [],
   "source": [
    "class Intervals:\n",
    "    interval=[]\n",
    "    def __init__(self,x,y):\n",
    "        self.x=x\n",
    "        self.y=y\n",
    "\n",
    "    def len_of_interval(self):\n",
    "        lnegh= self.y-self.x\n",
    "        return lnegh\n",
    "        "
   ]
  },
  {
   "cell_type": "code",
   "execution_count": 60,
   "id": "ad80f5eb-b8f0-4637-b162-c786859f30fd",
   "metadata": {},
   "outputs": [
    {
     "name": "stdout",
     "output_type": "stream",
     "text": [
      "2.5\n"
     ]
    }
   ],
   "source": [
    "new_interval= Intervals(1,3.5)\n",
    "print(new_interval.len_of_interval())"
   ]
  },
  {
   "cell_type": "markdown",
   "id": "b89c919b-5990-4996-875a-8c8bd279df97",
   "metadata": {},
   "source": [
    "Practise Task 3\n",
    "\n",
    "Import scipy.stats in order to access the scipy.stats.expon distribution. This imple- ments the exponential distribution Exp(λ). Make sure you read the documentation https://docs.scipy. org/doc/scipy/reference/generated/scipy.stats.expon.html to understand how it works and how the parameter λ is encoded. Using the cdf method of scipy.stats.expon define a function called expon_measure which will take as input an interval (defined in the previous question) and will return its probability mass under the probability measure Exp (2) (i.e. λ = 2). Test your function by computing the probability measure of the following intervals:\n",
    "(a) [0,1] (b) [1,1]\n",
    "(c) [1,10] (d) [0,∞)\n",
    "Plot the pdf of Exp (2) on comment on whether your answers seem to make sense visually."
   ]
  },
  {
   "cell_type": "code",
   "execution_count": 61,
   "id": "ec25944b-d69c-48c1-9010-41644e14e4c5",
   "metadata": {},
   "outputs": [],
   "source": [
    "import scipy.stats as st\n",
    "import numpy as np\n",
    "from scipy.stats import expon\n",
    "import matplotlib.pyplot as plt"
   ]
  },
  {
   "cell_type": "code",
   "execution_count": 62,
   "id": "7b1c27fa-b343-4107-ba9a-7fc7e9f40b31",
   "metadata": {},
   "outputs": [],
   "source": [
    "def expon_measure(interval,lamda) :\n",
    "    pm=expon.cdf((interval.y),scale=1/lamda)-expon.cdf(interval.x,scale=1/lamda)\n",
    "    print(pm)"
   ]
  },
  {
   "cell_type": "code",
   "execution_count": 63,
   "id": "7a60f514-059b-4f23-97c8-c11975f819bf",
   "metadata": {},
   "outputs": [
    {
     "name": "stdout",
     "output_type": "stream",
     "text": [
      "0.8646647167633873\n"
     ]
    }
   ],
   "source": [
    "expon_measure(Intervals(0,1),2)"
   ]
  },
  {
   "cell_type": "code",
   "execution_count": 64,
   "id": "44ecba52-3fa0-47ee-85f0-1a9d4b5f3349",
   "metadata": {},
   "outputs": [
    {
     "name": "stdout",
     "output_type": "stream",
     "text": [
      "0.0\n"
     ]
    }
   ],
   "source": [
    "expon_measure(Intervals(1,1),2)"
   ]
  },
  {
   "cell_type": "code",
   "execution_count": 65,
   "id": "424a5e9f-437b-429b-a299-d5940e719589",
   "metadata": {},
   "outputs": [
    {
     "name": "stdout",
     "output_type": "stream",
     "text": [
      "0.13533528117545912\n"
     ]
    }
   ],
   "source": [
    "expon_measure(Intervals(1,10),2)"
   ]
  },
  {
   "cell_type": "code",
   "execution_count": 66,
   "id": "b790dc39-1cf5-4f5a-9916-258119b66684",
   "metadata": {},
   "outputs": [
    {
     "name": "stdout",
     "output_type": "stream",
     "text": [
      "1.0\n"
     ]
    }
   ],
   "source": [
    "infinity=float('inf')\n",
    "expon_measure(Intervals(0,infinity),2)"
   ]
  },
  {
   "cell_type": "code",
   "execution_count": 67,
   "id": "497eed5e-4282-4a7c-8425-9ee5fb29d704",
   "metadata": {},
   "outputs": [
    {
     "data": {
      "image/png": "[encoded data removed]",
      "text/plain": [
       "<Figure size 640x480 with 1 Axes>"
      ]
     },
     "metadata": {},
     "output_type": "display_data"
    }
   ],
   "source": [
    "x=np.linspace(0,1)\n",
    "plt.plot(x,expon.pdf(x,scale=1/2),'r-', lw=5, alpha=0.6, label='expon pdf')\n",
    "plt.show()"
   ]
  },
  {
   "cell_type": "markdown",
   "id": "c89d8d3b-cf60-4dff-bbdd-ce4b9162175e",
   "metadata": {},
   "source": [
    "After plotting the exponential graph for lambda=2 we can see that it is decreasing over the given interval which is expected for an exponential distribution and probability mass for the given interval is giving us the area under the curve for given interval."
   ]
  },
  {
   "cell_type": "markdown",
   "id": "fbe00492-dc74-42f9-8d44-cbacba8b7f50",
   "metadata": {},
   "source": [
    "Practise Task 4\n",
    "\n",
    "Using the pdf method of scipy.stats.expon, define a function called expon_pdf which will take one argument x and return the pdf of the probability measure Exp(2) evaluated at x. Import the integration routine quad from scipy.integrate, and read the documentation https://docs.scipy. org/doc/scipy/reference/generated/scipy.integrate.quad.html to see how it works. Use quad to compute and print the following integrals\n",
    "(a) R 1 expon_pdf(x) dx 0\n",
    "(b) R 1 expon_pdf(x) dx 1\n",
    "(c) R 10 expon_pdf(x) dx 1\n",
    "(d) R ∞ expon_pdf(x) dx 0\n",
    "Compare your answers with those of the previous question. What do you see? Why is this the case?"
   ]
  },
  {
   "cell_type": "code",
   "execution_count": 68,
   "id": "a0e60e74-ed74-438d-a009-b2e6275ff499",
   "metadata": {},
   "outputs": [],
   "source": [
    "import scipy.integrate as intgr"
   ]
  },
  {
   "cell_type": "code",
   "execution_count": 69,
   "id": "37e079c6-f738-4a11-ab66-f458e0aeb9d9",
   "metadata": {},
   "outputs": [],
   "source": [
    "def expon_pdf(x):\n",
    "    pdf=expon.pdf(x,scale=1/2)\n",
    "    return pdf"
   ]
  },
  {
   "cell_type": "code",
   "execution_count": 70,
   "id": "456f251d-b9df-40d1-84e2-32cb275329c6",
   "metadata": {},
   "outputs": [
    {
     "data": {
      "text/plain": [
       "(0.8646647167633873, 9.599706771317021e-15)"
      ]
     },
     "execution_count": 70,
     "metadata": {},
     "output_type": "execute_result"
    }
   ],
   "source": [
    "intgr.quad(expon_pdf,0,1)"
   ]
  },
  {
   "cell_type": "code",
   "execution_count": 71,
   "id": "0eb10363-5ab8-4ce1-8cd0-872738053556",
   "metadata": {},
   "outputs": [
    {
     "data": {
      "text/plain": [
       "(0.0, 0.0)"
      ]
     },
     "execution_count": 71,
     "metadata": {},
     "output_type": "execute_result"
    }
   ],
   "source": [
    "intgr.quad(expon_pdf,1,1)"
   ]
  },
  {
   "cell_type": "code",
   "execution_count": 72,
   "id": "1e31bcf7-f089-4ba3-8ee3-2a3f03f57317",
   "metadata": {},
   "outputs": [
    {
     "data": {
      "text/plain": [
       "(0.13533528117545912, 2.4502060294750603e-09)"
      ]
     },
     "execution_count": 72,
     "metadata": {},
     "output_type": "execute_result"
    }
   ],
   "source": [
    "intgr.quad(expon_pdf,1,10)"
   ]
  },
  {
   "cell_type": "code",
   "execution_count": 73,
   "id": "0460d843-405a-42a7-a997-a22059efe900",
   "metadata": {},
   "outputs": [
    {
     "data": {
      "text/plain": [
       "(0.9999999999999999, 1.5470064009984758e-10)"
      ]
     },
     "execution_count": 73,
     "metadata": {},
     "output_type": "execute_result"
    }
   ],
   "source": [
    "intgr.quad(expon_pdf,0,float('inf'))"
   ]
  },
  {
   "cell_type": "markdown",
   "id": "9c0f55c9-bd7f-44ed-9f01-0103aa34f120",
   "metadata": {},
   "source": [
    "Observation:\n",
    "\n",
    "After compairing the answers in question 4 with the values returned by expon_measure function I observed that both of the functions are returning approximately same values. This is an expected result as the probability of a given interval is always equal to the integration of PDF on same interval."
   ]
  },
  {
   "cell_type": "code",
   "execution_count": null,
   "id": "06f6a583-6dee-4cd3-ba8b-0237650e9ad6",
   "metadata": {},
   "outputs": [],
   "source": []
  }
 ],
 "metadata": {
  "kernelspec": {
   "display_name": "Python 3 (ipykernel)",
   "language": "python",
   "name": "python3"
  },
  "language_info": {
   "codemirror_mode": {
    "name": "ipython",
    "version": 3
   },
   "file_extension": ".py",
   "mimetype": "text/x-python",
   "name": "python",
   "nbconvert_exporter": "python",
   "pygments_lexer": "ipython3",
   "version": "3.10.13"
  }
 },
 "nbformat": 4,
 "nbformat_minor": 5
}
